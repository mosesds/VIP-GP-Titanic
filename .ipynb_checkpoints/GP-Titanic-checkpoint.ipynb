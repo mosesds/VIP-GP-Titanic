{
 "cells": [
  {
   "cell_type": "code",
   "execution_count": 1,
   "metadata": {},
   "outputs": [],
   "source": [
    "import random\n",
    "import operator\n",
    "\n",
    "import numpy as np\n",
    "import pandas as pd\n",
    "import matplotlib.pyplot as plt\n",
    "\n",
    "from deap import base\n",
    "from deap import creator\n",
    "from deap import tools\n",
    "from deap import gp\n",
    "\n",
    "from sklearn.model_selection import train_test_split\n",
    "from sklearn.metrics import confusion_matrix\n",
    "from sklearn.preprocessing import MinMaxScaler"
   ]
  },
  {
   "cell_type": "code",
   "execution_count": 2,
   "metadata": {},
   "outputs": [],
   "source": [
    "train_data = pd.read_csv('train.csv')\n",
    "test_data = pd.read_csv('test.csv')"
   ]
  },
  {
   "cell_type": "code",
   "execution_count": 3,
   "metadata": {},
   "outputs": [],
   "source": [
    "full_data = [train_data, test_data]\n",
    "\n",
    "map_embarked = dict(zip(train_data.Embarked.fillna(''), \n",
    "                        train_data.Embarked.fillna('').astype('category').cat.codes))\n",
    "\n",
    "for dataset in full_data:\n",
    "    # Create boolean 'IsAlone' to represent 'Sibsp' and 'Parch'\n",
    "    dataset['IsAlone'] = 0\n",
    "    dataset.loc[dataset['SibSp'] + dataset['Parch'] == 0, 'IsAlone'] = 1\n",
    "    \n",
    "    # Drop irrelevant/cumbersome columns and make 'PassengerId' the index\n",
    "    dataset.drop(columns=['Name', 'SibSp', 'Parch', 'Ticket', 'Cabin'], inplace=True)\n",
    "    dataset.set_index(keys=['PassengerId'], drop=True, inplace=True)\n",
    "\n",
    "    # Create map and fill NaN values\n",
    "    dataset_nan_map = {\n",
    "        'Age': dataset['Age'].mean(),\n",
    "        'Fare': dataset['Fare'].mean(),\n",
    "    }\n",
    "    dataset.fillna(value=dataset_nan_map, inplace=True)\n",
    "    \n",
    "    # map mixed types to numbers and fill nan values\n",
    "    columns_map = {\n",
    "        'Sex': {'male': 0, 'female': 1},\n",
    "    }\n",
    "    dataset.replace(columns_map, inplace=True)\n",
    "    \n",
    "    dataset['Embarked'] = dataset.Embarked.fillna('').map(map_embarked)\n",
    "    \n",
    "    # Change to ordinal values based on bands created above\n",
    "    dataset['Age'] = dataset[\"Age\"].apply(lambda x: 0 if x <= 16 \n",
    "                                          else 1 if x > 16 and x <= 32\n",
    "                                          else 2 if x > 32 and x <= 48\n",
    "                                          else 3 if x > 48 and x <= 64\n",
    "                                          else 4)\n",
    "    dataset['Fare'] = dataset[\"Fare\"].apply(lambda x: 0 if x <= 7.91 \n",
    "                                            else 1 if x > 7.91 and x <= 14.454\n",
    "                                            else 2 if x > 14.454 and x <= 31\n",
    "                                            else 3)\n",
    "    \n",
    "# Split data\n",
    "X_train = train_data.loc[:, train_data.columns != 'Survived']\n",
    "y_train = train_data.loc[:, 'Survived']\n",
    "\n",
    "X_train, X_test, y_train, y_test = train_test_split(X_train, y_train, test_size=0.25, random_state=10)"
   ]
  },
  {
   "cell_type": "code",
   "execution_count": 4,
   "metadata": {},
   "outputs": [],
   "source": [
    "creator.create(\"FitnessMin\", base.Fitness, weights=(-1.0,-1.0))\n",
    "creator.create(\"Individual\", gp.PrimitiveTree, fitness=creator.FitnessMin)\n",
    "\n",
    "random.seed(25)\n",
    "\n",
    "pset = gp.PrimitiveSet(\"MAIN\", arity=6)\n",
    "pset.addPrimitive(np.add, arity=2)\n",
    "pset.addPrimitive(np.subtract, arity=2)\n",
    "pset.addPrimitive(np.multiply, arity=2)\n",
    "pset.addPrimitive(np.sin, arity=1)\n",
    "pset.addPrimitive(np.cos, arity=1)\n",
    "pset.addPrimitive(np.tan, arity=1)\n",
    "pset.renameArguments(ARG0='x')\n",
    "\n",
    "toolbox = base.Toolbox()\n",
    "#2->5\n",
    "toolbox.register(\"expr\", gp.genHalfAndHalf, pset=pset, min_=4, max_=8)\n",
    "toolbox.register(\"individual\", tools.initIterate, creator.Individual, toolbox.expr)\n",
    "toolbox.register(\"population\", tools.initRepeat, list, toolbox.individual)\n",
    "toolbox.register(\"compile\", gp.compile, pset=pset)"
   ]
  },
  {
   "cell_type": "code",
   "execution_count": 5,
   "metadata": {},
   "outputs": [],
   "source": [
    "def evalFPRFNR(individual, X_train, y_train, pset):\n",
    "    func = gp.compile(expr=individual, pset=pset)\n",
    "    pred = np.array([func(row['Pclass'], row['Sex'], row['Age'], row['Fare'], row['Embarked'],\n",
    "             row['IsAlone']) for index, row in X_train.iterrows()])\n",
    "    \n",
    "    pred = MinMaxScaler().fit_transform((pred[:, np.newaxis]))\n",
    "    \n",
    "    tn, fp, fn, tp = confusion_matrix(y_train.values, pred.round()).ravel()\n",
    "    fpr = fp/(fp+tp) if (fp+tp) != 0 else 0\n",
    "    fnr = fn/(fn+tn) if (fn+tn) != 0 else 0\n",
    "    \n",
    "    return (fpr, fnr)\n",
    "\n",
    "\n",
    "toolbox.register(\"evaluate\", evalFPRFNR, X_train=X_train, y_train=y_train, pset=pset)\n",
    "toolbox.register(\"select\", tools.selNSGA2)\n",
    "toolbox.register(\"mate\", gp.cxOnePoint)\n",
    "#full->grow\n",
    "toolbox.register(\"expr_mut\", gp.genHalfAndHalf, min_=0, max_=2)\n",
    "toolbox.register(\"mutate\", gp.mutUniform, expr=toolbox.expr_mut, pset=pset)\n",
    "\n",
    "toolbox.decorate(\"mate\", gp.staticLimit(key=operator.attrgetter(\"height\"), max_value=7))\n",
    "toolbox.decorate(\"mutate\", gp.staticLimit(key=operator.attrgetter(\"height\"), max_value=7))"
   ]
  },
  {
   "cell_type": "code",
   "execution_count": 6,
   "metadata": {},
   "outputs": [],
   "source": [
    "def pareto_dominance(ind1, ind2):\n",
    "    not_equal = False\n",
    "    for value_1, value_2 in zip(ind1.fitness.values, ind2.fitness.values):\n",
    "        if value_1 > value_2:\n",
    "            return False\n",
    "        elif value_1 < value_2:\n",
    "            not_equal = True\n",
    "    return not_equal"
   ]
  },
  {
   "cell_type": "code",
   "execution_count": 7,
   "metadata": {},
   "outputs": [],
   "source": [
    "pop = toolbox.population(n=500)\n",
    "\n",
    "fitnesses = list(map(toolbox.evaluate, pop))\n",
    "for ind, fit in zip(pop, fitnesses):\n",
    "    ind.fitness.values = fit\n",
    "\n",
    "a_given_individual = toolbox.population(n=1)[0]\n",
    "a_given_individual.fitness.values = toolbox.evaluate(a_given_individual)"
   ]
  },
  {
   "cell_type": "markdown",
   "metadata": {},
   "source": [
    "Next, we will sort our population by pareto dominance in comparison to the separate individual we defined."
   ]
  },
  {
   "cell_type": "code",
   "execution_count": 8,
   "metadata": {},
   "outputs": [],
   "source": [
    "dominated = [ind for ind in pop if pareto_dominance(a_given_individual, ind)]\n",
    "dominators = [ind for ind in pop if pareto_dominance(ind, a_given_individual)]\n",
    "others = [ind for ind in pop if not ind in dominated and not ind in dominators]"
   ]
  },
  {
   "cell_type": "markdown",
   "metadata": {},
   "source": [
    "Next, we will plot our objective space using our sorted population."
   ]
  },
  {
   "cell_type": "code",
   "execution_count": 9,
   "metadata": {},
   "outputs": [
    {
     "data": {
      "image/png": "[encoded data removed]",
      "text/plain": [
       "<Figure size 432x288 with 1 Axes>"
      ]
     },
     "metadata": {
      "needs_background": "light"
     },
     "output_type": "display_data"
    }
   ],
   "source": [
    "for ind in dominators: plt.plot(ind.fitness.values[0], ind.fitness.values[1], 'r.', alpha=0.7)\n",
    "for ind in dominated: plt.plot(ind.fitness.values[0], ind.fitness.values[1], 'g.', alpha=0.7)\n",
    "for ind in others: plt.plot(ind.fitness.values[0], ind.fitness.values[1], 'k.', alpha=0.7, ms=3)\n",
    "plt.plot(a_given_individual.fitness.values[0], a_given_individual.fitness.values[1], 'bo', ms=6);\n",
    "plt.xlabel('Mean Squared Error');plt.ylabel('Tree Size');\n",
    "plt.title('Objective space');\n",
    "plt.tight_layout()\n",
    "plt.show()"
   ]
  },
  {
   "cell_type": "markdown",
   "metadata": {},
   "source": [
    "The blue point is the given individual we set aside and compared all the other individuals to. The black points are uncomparable, the green points are dominated by the given individual, and the red points dominate the given individual."
   ]
  },
  {
   "cell_type": "markdown",
   "metadata": {},
   "source": [
    "We can see in this visualization how the individuals dominating our pareto front are closer to the bottom right because they have the lowest MSE and tree size. Our goal is to minimize both objectives and have an individual as close to the bottom right as possible."
   ]
  },
  {
   "cell_type": "markdown",
   "metadata": {},
   "source": [
    "A more in-depth look at DEAP, pareto fronts, and pareto dominance can be found here: https://github.com/lmarti/evolutionary-computation-course/blob/master/AEC.06%20-%20Evolutionary%20Multi-Objective%20Optimization.ipynb"
   ]
  },
  {
   "cell_type": "markdown",
   "metadata": {},
   "source": [
    "Next, we will define and run the main evolutionary algorithm."
   ]
  },
  {
   "cell_type": "code",
   "execution_count": null,
   "metadata": {},
   "outputs": [
    {
     "name": "stdout",
     "output_type": "stream",
     "text": [
      "gen\tavg                    \tstd                    \tmin                    \tmax                    \n",
      "0  \t[0.54061701 0.40107738]\t[0.14843535 0.10752534]\t[0.         0.24050633]\t[0.79809976 0.81818182]\n",
      "1  \t[0.39104781 0.32089443]\t[0.14529435 0.05704673]\t[0.        0.1570997]  \t[0.57852883 0.39820359]\n",
      "2  \t[0.27577532 0.31358662]\t[0.15600394 0.068193  ]\t[0.        0.1570997]  \t[0.51777778 0.39820359]\n",
      "3  \t[0.2306039  0.30243034]\t[0.17903985 0.07850784]\t[0.        0.1570997]  \t[0.51777778 0.39820359]\n",
      "4  \t[0.04296114 0.36796846]\t[0.11364317 0.07619778]\t[0.        0.1570997]  \t[0.36498516 0.39820359]\n",
      "5  \t[0.03709442 0.37065649]\t[0.09836433 0.06917844]\t[0.        0.1570997]  \t[0.36498516 0.39820359]\n",
      "6  \t[0.09480043 0.33183058]\t[0.14482785 0.09789123]\t[0.        0.1570997]  \t[0.36498516 0.39820359]\n",
      "7  \t[0.07984746 0.33924796]\t[0.12688502 0.09074323]\t[0.        0.1570997]  \t[0.36498516 0.39820359]\n",
      "8  \t[0.02956474 0.37491957]\t[0.0928986  0.06492688]\t[0.        0.1570997]  \t[0.36498516 0.39820359]\n"
     ]
    }
   ],
   "source": [
    "NGEN = 50\n",
    "NXTGEN = 50\n",
    "NCHILD = 100\n",
    "CXPB = 0.5\n",
    "MUTPB = 0.1\n",
    "\n",
    "pop = toolbox.population(n=NXTGEN)\n",
    "hof = tools.ParetoFront()\n",
    "stats = tools.Statistics(lambda ind: ind.fitness.values)\n",
    "stats.register(\"avg\", np.mean, axis=0)\n",
    "stats.register(\"std\", np.std, axis=0)\n",
    "stats.register(\"min\", np.min, axis=0)\n",
    "stats.register(\"max\", np.max, axis=0)\n",
    "\n",
    "logbook = tools.Logbook()\n",
    "logbook.header = ['gen'] + (stats.fields)\n",
    "\n",
    "invalid_ind = [ind for ind in pop if not ind.fitness.valid]\n",
    "fitnesses = toolbox.map(toolbox.evaluate, invalid_ind)\n",
    "for ind, fit in zip(invalid_ind, fitnesses):\n",
    "    ind.fitness.values = fit\n",
    "    \n",
    "record = stats.compile(pop) \n",
    "logbook.record(gen=0, **record)\n",
    "print(logbook.stream)\n",
    "\n",
    "for gen in range(1, NGEN + 1):\n",
    "        # Vary the population\n",
    "        offspring = []\n",
    "        for x in range(NCHILD):\n",
    "            choice = random.random()\n",
    "            if choice < CXPB:            # Apply crossover\n",
    "                ind1, ind2 = map(toolbox.clone, random.sample(pop, 2))\n",
    "                ind1, ind2 = toolbox.mate(ind1, ind2)\n",
    "                del ind1.fitness.values\n",
    "                offspring.append(ind1)\n",
    "            elif choice < CXPB + MUTPB:  # Apply mutation\n",
    "                ind = toolbox.clone(random.choice(pop))\n",
    "                ind, = toolbox.mutate(ind)\n",
    "                del ind.fitness.values\n",
    "                offspring.append(ind)\n",
    "            else:                           # Apply reproduction\n",
    "                offspring.append(random.choice(pop))\n",
    "\n",
    "        # Evaluate the individuals with an invalid fitness\n",
    "        invalid_ind = [ind for ind in offspring if not ind.fitness.valid]\n",
    "        fitnesses = toolbox.map(toolbox.evaluate, invalid_ind)\n",
    "        for ind, fit in zip(invalid_ind, fitnesses):\n",
    "            ind.fitness.values = fit\n",
    "\n",
    "        # Update the hall of fame with the generated individuals\n",
    "        if hof is not None:\n",
    "            hof.update(offspring)\n",
    "\n",
    "        # Select the next generation population\n",
    "        pop[:] = toolbox.select(pop + offspring, NXTGEN)\n",
    "\n",
    "        # Update the statistics with the new population\n",
    "        record = stats.compile(pop)\n",
    "        logbook.record(gen=gen, **record)\n",
    "        print(logbook.stream)"
   ]
  },
  {
   "cell_type": "markdown",
   "metadata": {},
   "source": [
    "Now, we will plot the results of our run and display the best individual."
   ]
  },
  {
   "cell_type": "code",
   "execution_count": null,
   "metadata": {},
   "outputs": [],
   "source": [
    "print(\"Best individual is: %s\\nwith fitness: %s\" % (hof[0], hof[0].fitness))\n",
    "gen, avg, min_, max_ = logbook.select(\"gen\", \"avg\", \"min\", \"max\")\n",
    "plt.plot(gen, avg, label=\"average\")\n",
    "plt.plot(gen, min_, label=\"minimum\")\n",
    "plt.xlabel(\"Generation\")\n",
    "plt.ylabel(\"Fitness\")\n",
    "plt.legend(loc=\"upper left\")\n",
    "plt.show()"
   ]
  },
  {
   "cell_type": "markdown",
   "metadata": {},
   "source": [
    "In the graph above, the orange and red plots represent tree size and the blue and green plots represent MSE."
   ]
  },
  {
   "cell_type": "markdown",
   "metadata": {},
   "source": [
    "This time we made use of DEAP's efficient implementations of pareto dominance and evolutionary algorithms. We used DEAP's Mu plus Lambda evolutionary algorithm. This adds two new parameters than the evolutionary loop we are used to, mu and lambda. Mu is the number of individuals to select for the next generation. Lambda is the number of children to produce at each generation."
   ]
  },
  {
   "cell_type": "markdown",
   "metadata": {},
   "source": [
    "In the plot above, we can see two trends. The size of our primitive trees raises over time, and our mean squared error quickly drops to between 0 and 1 within the first few generations."
   ]
  },
  {
   "cell_type": "markdown",
   "metadata": {},
   "source": [
    "However, that plot does not accurately represent how well our population is doing on both objectives. We can use a visualization of our objective space to show our pareto front and accurately represent how well our population is doing on both objectives."
   ]
  },
  {
   "cell_type": "markdown",
   "metadata": {},
   "source": [
    "Next, we will visualize our objective space and pareto front."
   ]
  },
  {
   "cell_type": "code",
   "execution_count": null,
   "metadata": {},
   "outputs": [],
   "source": [
    "\"\"\"Split fitness values into separate lists\"\"\"\n",
    "fitness_1 = [ind.fitness.values[0] for ind in hof]\n",
    "fitness_2 = [ind.fitness.values[1] for ind in hof]\n",
    "pop_1 = [ind.fitness.values[0] for ind in pop]\n",
    "pop_2 = [ind.fitness.values[1] for ind in pop]\n",
    "\n",
    "'''Print dominated population for debugging'''\n",
    "# for ind in pop:\n",
    "#     print(ind.fitness)\n",
    "\n",
    "plt.scatter(pop_1, pop_2, color='b')\n",
    "plt.scatter(fitness_1, fitness_2, color='r')\n",
    "plt.plot(fitness_1, fitness_2, color='r', drawstyle='steps-post')\n",
    "plt.xlabel(\"FPR\")\n",
    "plt.ylabel(\"FNR\")\n",
    "plt.title(\"Pareto Front\")\n",
    "plt.show()\n",
    "\n",
    "f1 = np.array(fitness_1)\n",
    "f2 = np.array(fitness_2)\n",
    "\n",
    "\"\"\"Calculate area under curve with least squares method\"\"\"\n",
    "print(\"Area Under Curve: %s\" % (np.sum(np.abs(np.diff(f1))*f2[:-1])))"
   ]
  },
  {
   "cell_type": "code",
   "execution_count": null,
   "metadata": {},
   "outputs": [],
   "source": [
    "pred_df = pd.DataFrame(index=test_data.index)\n",
    "\n",
    "for n, ind in enumerate(hof):\n",
    "    func = gp.compile(expr=ind, pset=pset)\n",
    "    pred = np.array([func(row['Pclass'], row['Sex'], row['Age'], row['Fare'], row['Embarked'],\n",
    "             row['IsAlone']) for index, row in test_data.iterrows()])\n",
    "\n",
    "    pred = MinMaxScaler().fit_transform((pred[:, np.newaxis]))\n",
    "    pred = pred.flatten()\n",
    "    pred_df[\"Survived %i\" % n] = pred.round()\n",
    "\n",
    "#pred_df.to_csv('predictions.csv', header=True, sep=',')"
   ]
  },
  {
   "cell_type": "code",
   "execution_count": null,
   "metadata": {},
   "outputs": [],
   "source": []
  }
 ],
 "metadata": {
  "kernelspec": {
   "display_name": "Python 3",
   "language": "python",
   "name": "python3"
  },
  "language_info": {
   "codemirror_mode": {
    "name": "ipython",
    "version": 3
   },
   "file_extension": ".py",
   "mimetype": "text/x-python",
   "name": "python",
   "nbconvert_exporter": "python",
   "pygments_lexer": "ipython3",
   "version": "3.8.5"
  }
 },
 "nbformat": 4,
 "nbformat_minor": 2
}
